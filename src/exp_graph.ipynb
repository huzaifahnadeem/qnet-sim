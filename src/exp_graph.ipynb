{
 "cells": [
  {
   "cell_type": "code",
   "execution_count": null,
   "metadata": {},
   "outputs": [],
   "source": [
    "import pandas as pd\n",
    "import numpy as np\n",
    "import os\n",
    "import json\n",
    "from collections import Counter\n",
    "import matplotlib.pyplot as plt"
   ]
  },
  {
   "cell_type": "code",
   "execution_count": null,
   "metadata": {},
   "outputs": [],
   "source": [
    "data_dir = './experiments-results/'\n",
    "filenames = os.listdir(data_dir)\n",
    "filenames[:] = [x for x in filenames if x[-5:] == '.json'] # only select .json files"
   ]
  },
  {
   "cell_type": "code",
   "execution_count": null,
   "metadata": {},
   "outputs": [],
   "source": [
    "results = {}\n",
    "for fn in filenames:\n",
    "    with open(f'{data_dir}/{fn}', 'r') as jsonfile:\n",
    "        results[fn] = json.load(jsonfile)"
   ]
  },
  {
   "cell_type": "code",
   "execution_count": null,
   "metadata": {},
   "outputs": [],
   "source": [
    "d = {\n",
    "    'seed': [],\n",
    "    'p': [],\n",
    "    'q': [],\n",
    "    'ts': [],\n",
    "    'e2e_ebits': [],\n",
    "    'x_dist': [],\n",
    "    # 'y_dist': [],\n",
    "}\n",
    "\n",
    "for k in results.keys():\n",
    "    seed = results[k]['params_used']['seed']\n",
    "    p = results[k]['params_used']['qc_p_loss_init']\n",
    "    q = results[k]['params_used']['prob_swap_loss']\n",
    "    xdist = results[k]['params_used']['x_dist_gte']\n",
    "\n",
    "    ts_with_ebits = list(Counter(results[k]['results']['time_slot']).keys())\n",
    "    e2e_per_ts = list(Counter(results[k]['results']['time_slot']).values())\n",
    "    for idx, ts in enumerate(ts_with_ebits):\n",
    "        d['seed'].append(seed)\n",
    "        d['p'].append(p)\n",
    "        d['q'].append(q)\n",
    "        d['x_dist'].append(xdist)\n",
    "        d['ts'].append(ts)\n",
    "        d['e2e_ebits'].append(e2e_per_ts[idx])\n",
    "    \n",
    "    zero_ebits_ts = []\n",
    "    for ts in [2, 3, 4, 5]:\n",
    "        if ts not in results[k]['results']['time_slot']:\n",
    "            zero_ebits_ts.append(ts)\n",
    "\n",
    "    for ts in zero_ebits_ts:\n",
    "        d['seed'].append(seed)\n",
    "        d['p'].append(p)\n",
    "        d['q'].append(q)\n",
    "        d['x_dist'].append(xdist)\n",
    "        d['ts'].append(ts)\n",
    "        d['e2e_ebits'].append(0)\n",
    "\n",
    "df = pd.DataFrame(data=d)"
   ]
  },
  {
   "cell_type": "code",
   "execution_count": null,
   "metadata": {},
   "outputs": [],
   "source": [
    "df"
   ]
  },
  {
   "cell_type": "code",
   "execution_count": null,
   "metadata": {},
   "outputs": [],
   "source": [
    "data = {\n",
    "    'p': [],\n",
    "    'q': [],\n",
    "    'ebit_per_cycle': [],\n",
    "    'x_dist': []\n",
    "}\n",
    "\n",
    "ps = [0.4, 0.55, 0.7]\n",
    "qs = [0, 0.1, 0.5]\n",
    "xs = range(1, 11)\n",
    "\n",
    "for p in ps:\n",
    "    for q in qs:\n",
    "        for x in xs:\n",
    "            val = df.loc[(df['p'] == p) & (df['q'] == q) & (df['x_dist'] == x)]['e2e_ebits'].mean()\n",
    "            data['ebit_per_cycle'].append(np.log10(val))\n",
    "            data['p'].append(p)\n",
    "            data['q'].append(q)\n",
    "            data['x_dist'].append(x)\n",
    "\n",
    "plotdf = pd.DataFrame(data=data)"
   ]
  },
  {
   "cell_type": "code",
   "execution_count": null,
   "metadata": {},
   "outputs": [],
   "source": [
    "legend = []\n",
    "\n",
    "p = 0.55\n",
    "q = 0\n",
    "legend.append(f\"p={round(1-p, 2)}, q={1-q}\")\n",
    "color = 'green'\n",
    "ax = plotdf.loc[(plotdf['p'] == p) & (plotdf['q'] == q)].plot(x='x_dist', y='ebit_per_cycle', logy=False, c=color)\n",
    "\n",
    "\n",
    "# p = 0.55\n",
    "# q = 0.1\n",
    "# legend.append(f\"p={round(1-p, 2)}, q={1-q}\")\n",
    "# color = 'purple'\n",
    "# plotdf.loc[(plotdf['p'] == p) & (plotdf['q'] == q)].plot(x='x_dist', y='ebit_per_cycle', logy=False, c=color, ax=ax)\n",
    "\n",
    "\n",
    "p = 0.4\n",
    "q = 0.1\n",
    "legend.append(f\"p={1-p}, q={1-q}\")\n",
    "color = 'orange'\n",
    "plotdf.loc[(plotdf['p'] == p) & (plotdf['q'] == q)].plot(x='x_dist', y='ebit_per_cycle', logy=False, c=color, ax=ax)\n",
    "\n",
    "p = 0.4\n",
    "q = 0\n",
    "color = 'red'\n",
    "legend.append(f\"p={1-p}, q={1-q}\")\n",
    "plotdf.loc[(plotdf['p'] == p) & (plotdf['q'] == q)].plot(x='x_dist', y='ebit_per_cycle', logy=False, c=color, ax=ax)\n",
    "\n",
    "ax.legend(legend)\n",
    "ax.set_xlabel('X separation (hops)')\n",
    "ax.set_ylabel('log10( ebits/timeslot )')"
   ]
  }
 ],
 "metadata": {
  "kernelspec": {
   "display_name": "venv-netsquid",
   "language": "python",
   "name": "python3"
  },
  "language_info": {
   "codemirror_mode": {
    "name": "ipython",
    "version": 3
   },
   "file_extension": ".py",
   "mimetype": "text/x-python",
   "name": "python",
   "nbconvert_exporter": "python",
   "pygments_lexer": "ipython3",
   "version": "3.9.18"
  }
 },
 "nbformat": 4,
 "nbformat_minor": 2
}
